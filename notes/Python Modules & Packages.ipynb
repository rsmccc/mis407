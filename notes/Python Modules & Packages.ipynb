{
 "cells": [
  {
   "cell_type": "markdown",
   "metadata": {},
   "source": [
    "# Python Modules\n",
    "\n",
    "## `standardsd` modules we use:\n",
    "- sys\n",
    "- os\n",
    "- urllib\n",
    "- random\n",
    "- datetime\n",
    "\n",
    "# Python Packages\n",
    "\n",
    "## Install additional packages:\n",
    "- PyPi\n",
    "\n",
    "`conda install <package name>`\n",
    "`pip install <package name>`"
   ]
  },
  {
   "cell_type": "code",
   "execution_count": 2,
   "metadata": {
    "collapsed": true
   },
   "outputs": [],
   "source": [
    "import sys\n",
    "import os\n",
    "import urllib\n",
    "import random\n",
    "import datetime"
   ]
  },
  {
   "cell_type": "code",
   "execution_count": 5,
   "metadata": {
    "collapsed": false,
    "title": "Hello"
   },
   "outputs": [
    {
     "name": "stdout",
     "output_type": "stream",
     "text": [
      "3.3.5 |Anaconda 2.3.0 (x86_64)| (default, Sep  2 2014, 13:57:31) \n",
      "[GCC 4.2.1 (Apple Inc. build 5577)]\n"
     ]
    }
   ],
   "source": [
    "\n",
    "# Go to the directory where Python is installed.\n",
    "# Use setuppy install <name of package>\n",
    "\n",
    "# All of the above in Terminal\n",
    "\n",
    "import sys\n",
    "\n",
    "print (sys.version)\n",
    "\n",
    "# or"
   ]
  },
  {
   "cell_type": "code",
   "execution_count": 20,
   "metadata": {
    "collapsed": false
   },
   "outputs": [
    {
     "name": "stdout",
     "output_type": "stream",
     "text": [
      "3.3.5 |Anaconda 2.3.0 (x86_64)| (default, Sep  2 2014, 13:57:31) \n",
      "[GCC 4.2.1 (Apple Inc. build 5577)]\n",
      "<http.client.HTTPResponse object at 0x106b19550>\n",
      "\n",
      "\n",
      "b'<!DOCTYPE html>\\n<html lang=\"en\">\\n<head>\\n    <meta charset=\"utf-8\">\\n    <meta http-equiv=\"X-UA-Compatible\" content=\"IE=edge\">\\n    <meta name=\"viewport\" content=\"width=device-width, initial-scale=1\">\\n    <link type=\"text/css\" rel=\"stylesheet\" href=\"/css/bootstrap.min.css\"/>\\n    <!--<script type=\"text/javascript\" src=\"js/myjava.js\"></script>-->\\n    <link type=\"text/css\" rel=\"stylesheet\" href=\"/css/base.css\"/>\\n    <!-- TODO -->\\n    <!--<script src=\"https://raw.githubusercontent.com/cowboy/jquery-hashchange/v1.3/jquery.ba-hashchange.min.js\"></script>-->\\n    <!--<script type=\\'text/javascript\\' src=\\'js/dynamicpage.js\\'></script>-->\\n    <title>FreedomWriter</title>\\n\\n    <link rel=\"shortcut icon\" href=\"/favicon.ico\" type=\"image/icon\">\\n    <link rel=\"icon\" href=\"/favicon.ico\" type=\"image/icon\">\\n</head>\\n\\n<!--<nav class=\"navbar navbar-default\">-->\\n    <!--<div class=\"navbar-wrapper\">-->\\n    <!--<div class=\"container\">-->\\n        <!--<button type=\"button\" class=\"navbar-toggle collapsed\" data-toggle=\"collapse\" data-target=\"#bs-example-navbar-collapse-1\">-->\\n            <!--<span class=\"sr-only\">Toggle navigation</span>-->\\n            <!--<span class=\"icon-bar\"></span>-->\\n            <!--<span class=\"icon-bar\"></span>-->\\n            <!--<span class=\"icon-bar\"></span>-->\\n        <!--</button>-->\\n        <!--<a class=\"navbar-brand\" href=\"#\">Home</a>-->\\n\\n        <!--<div class=\"collapse navbar-collapse\" id=\"bs-example-navbar-collapse-1\">-->\\n            <!--<ul class=\"nav navbar-nav\">-->\\n                <!--<li class=\"active\"><a href=\"pages/tasks.html\">Tasks<span class=\"sr-only\">(current)</span> </a></li>-->\\n                <!--<li role=\"presentation\"><a href=\"pages/leadership-portfolio.html\">Leadership Portfolio</a></li>-->\\n                <!--<li role=\"presentation\"><a href=\"http://www.lulu.com/commerce/index.php?fBuyContent=2852978\">My Book Store</a></li>-->\\n                <!--<li class=\"dropdown\">-->\\n                    <!--<a href=\"#\" class=\"dropdown-toggle\" data-toggle=\"dropdown\" role=\"button\" aria-expanded=\"false\">Projects <span class=\"caret\"></span></a>-->\\n                    <!--<ul class=\"dropdown-menu\" role=\"menu\">-->\\n                        <!--<li><a href=\"#\">Data</a></li>-->\\n                        <!--<li class=\"divider\"/>-->\\n                        <!--<li><a href=\"##\">Down here!</a></li>-->\\n                    <!--</ul>-->\\n                <!--</li>-->\\n            <!--</ul>-->\\n        <!--</div>-->\\n    <!--</div>-->\\n    <!--</div>-->\\n<!--</nav>-->\\n\\n<body class=\"dark\">\\n<div class=\"site-wrapper\">\\n    <div class=\"site-wrapper-inner\">\\n        <div class=\"container\">\\n                <h3 class=\"text-muted\">Riley S. McCloskey</h3>\\n                <nav>\\n                    <ul class=\"nav navbar-inverse nav-justified\">\\n                        <li class=\"active\">\\n                            <a href=\"/#\">Home</a>\\n                        </li>\\n                        <li>\\n                            <a href=\"/pages/tasks.html\">Tasks</a>\\n                        </li>\\n                        <li>\\n                            <a href=\"/pages/leadership-portfolio.html\">Portfolio</a>\\n                        </li>\\n                        <li>\\n                            <a href=\"/pages/causes.html\">Causes</a>\\n                        </li>\\n                        <li>\\n                            <a href=\"/pages/about.html\">About</a>\\n                        </li>\\n                        <li class=\"dropdown\">\\n                            <a href=\"/pages/projects.html\" class=\"dropdown-toggle\" data-toggle=\"dropdown\" role=\"button\" aria-expanded=\"false\">\\n                                Projects <span class=\"caret\"></span>\\n                            </a>\\n                            <ul class=\"dropdown-menu\" role=\"menu\">\\n                                <li>\\n                                    <a href=\"/pages/projects/nexus.html\">Nexus</a>\\n                                </li>\\n                                <li>\\n                                    <a href=\"/pages/projects/#\">Thing 1</a>\\n                                </li>\\n                                <li>\\n                                    <a href=\"/pages/projects/#\">Thing B</a>\\n                                </li>\\n                            </ul>\\n                        </li>\\n                    </ul>\\n                </nav>\\n\\n        <div class=\"cover-container\">\\n            <div class=\"inner cover\" style=\"text-align: center\">\\n                <h3 class=\"lead\" style=\"font-weight: bold\">Welcome to the website of</h3>\\n                <h1 class=\"cover-heading\">Riley S. McCloskey</h1>\\n                <h3 class=\"lead\">I am fascinated with the intersection of journalism, politics + technology</h3>\\n                <p class=\"lead\">This site is currently <i>under construction</i>, but will be <b>available soon</b>!</p>\\n            </div>\\n        </div>\\n        <div class=\"row\">\\n            <div class=\"col-md-3\" align=\"center\">\\n                <img class=\"img-circle\" width=\"120\" height=\"120\" src=\"resources/images/backgrounds/material_design/IMG_0077_1024.jpg\"/>\\n                <h2>Projects.</h2>\\n            </div>\\n            <div class=\"col-md-3\" align=\"center\">\\n                <img class=\"img-circle\" width=\"120\" height=\"120\" src=\"https://berniesanders.com/wp-content/uploads/2015/05/bernie-sanders-portrait-02.jpg\"/>\\n                <h2>Causes.</h2>\\n            </div>\\n            <div class=\"col-md-3\" align=\"center\">\\n                <img class=\"img-circle\" width=\"120\" height=\"120\" src=\"resources/images/backgrounds/material_design/IMG_0077_1024.jpg\"/>\\n                <h2>Blog.</h2>\\n            </div>\\n            <div class=\"col-md-3\" align=\"center\">\\n                <img class=\"img-circle\" width=\"120\" height=\"120\" src=\"resources/images/backgrounds/material_design/IMG_0077_1024.jpg\"/>\\n                <h2>About.</h2>\\n            </div>\\n        </div>\\n        </div>\\n    </div>\\n</div>\\n    <!-- jQuery (necessary for Bootstrap\\'s JavaScript plugins) -->\\n    <script src=\"https://ajax.googleapis.com/ajax/libs/jquery/1.11.2/jquery.min.js\"></script>\\n    <!-- Include all compiled plugins (below), or include individual files as needed -->\\n    <script src=\"js/bootstrap.min.js\"></script>\\n</body>\\n</html>\\n'\n"
     ]
    }
   ],
   "source": [
    "from sys import *\n",
    "\n",
    "print (version)\n",
    "\n",
    "# Another, limited version of using modules:\n",
    "\n",
    "from urllib import request\n",
    "\n",
    "url = \"http://rsmccc.public.iastate.edu\"\n",
    "req = request.Request(url)\n",
    "print (request.urlopen(url))\n",
    "print ('\\n')\n",
    "\n",
    "with request.urlopen(url) as f:\n",
    "  print(f.read())"
   ]
  },
  {
   "cell_type": "code",
   "execution_count": 21,
   "metadata": {
    "collapsed": false
   },
   "outputs": [
    {
     "ename": "SyntaxError",
     "evalue": "invalid syntax (<ipython-input-21-2d12ca99c813>, line 1)",
     "output_type": "error",
     "traceback": [
      "\u001b[0;36m  File \u001b[0;32m\"<ipython-input-21-2d12ca99c813>\"\u001b[0;36m, line \u001b[0;32m1\u001b[0m\n\u001b[0;31m    from panda import as ps\u001b[0m\n\u001b[0m                       ^\u001b[0m\n\u001b[0;31mSyntaxError\u001b[0m\u001b[0;31m:\u001b[0m invalid syntax\n"
     ]
    }
   ],
   "source": [
    "from panda import as ps\n",
    "\n",
    "from Person import as p"
   ]
  },
  {
   "cell_type": "code",
   "execution_count": null,
   "metadata": {
    "collapsed": true
   },
   "outputs": [],
   "source": []
  }
 ],
 "metadata": {
  "kernelspec": {
   "display_name": "Python 3",
   "language": "python",
   "name": "python3"
  },
  "language_info": {
   "codemirror_mode": {
    "name": "ipython",
    "version": 3
   },
   "file_extension": ".py",
   "mimetype": "text/x-python",
   "name": "python",
   "nbconvert_exporter": "python",
   "pygments_lexer": "ipython3",
   "version": "3.3.5"
  }
 },
 "nbformat": 4,
 "nbformat_minor": 0
}
