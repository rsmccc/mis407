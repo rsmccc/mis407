{
 "cells": [
  {
   "cell_type": "markdown",
   "metadata": {
    "collapsed": true
   },
   "source": [
    "# Core Data Types\n",
    "- Numbers\n",
    "- Strings\n",
    "- Lists [1, [2, 'three'], 4.5], list(range(10))\n",
    "- Dictionaries {'food': 'spam', 'taste': 'yum'}, dict(hours=10)\n",
    "    - Key-Value Pairs\n",
    "- Tuples (1, 'spam', 4, 'U'), tuple('spam'), namedtuple\n",
    "    - Immutable Lists\n",
    "- Files open('eggs.txt')\n",
    "- Sets set('abc'), {'a', 'b', 'c'}\n",
    "\n",
    "## Mutation\n",
    "- Immutable (guarantee that an object remains constant)\n",
    "    - numbers, strings, tuples\n",
    "    \n",
    "- Mutable (values can be changed anytime)\n",
    "    - lists, dictionaries, sets"
   ]
  },
  {
   "cell_type": "code",
   "execution_count": 24,
   "metadata": {
    "collapsed": false
   },
   "outputs": [
    {
     "data": {
      "text/plain": [
       "5"
      ]
     },
     "execution_count": 24,
     "metadata": {},
     "output_type": "execute_result"
    }
   ],
   "source": [
    "# Lists\n",
    "L = [123, 'abc', 1.23]\n",
    "L * 2 ##Doesn't change the value, just returns a new one.\n",
    "L + [4, 5, 6]\n",
    "L.append('Ni') ##Changes value of list\n",
    "L.sort() ##can't sort list containing multiple data types\n",
    "M = ['dd', 'aa', 'cc']\n",
    "M ## 'dd' 'aa' 'cc'\n",
    "M.sort()\n",
    "M ## ''aa' 'cc' 'dd'\n",
    "K = [[1, 2, 3], [4, 5, 6], [7, 8, 9]]\n",
    "col2 = [row[1] for row in K] ## for each row in list K, add element in row 1 to col2\n",
    "col2\n",
    "K[1][1] ##get element in list within list"
   ]
  },
  {
   "cell_type": "code",
   "execution_count": 39,
   "metadata": {
    "collapsed": false
   },
   "outputs": [
    {
     "data": {
      "text/plain": [
       "{'color': 'pink', 'food': 'Soy', 'quant': 6}"
      ]
     },
     "execution_count": 39,
     "metadata": {},
     "output_type": "execute_result"
    }
   ],
   "source": [
    "# Dictionaries (Key-Value pairs)\n",
    "D = {'food': 'Spam', 'quant': 5, 'color': 'pink'}\n",
    "D ## rearranges orders of the Key-Value pairs randomly, can't count on order to be same\n",
    "D['quant'] = 6 ## reassign value for key\n",
    "D['food'] = 'Soy'\n",
    "D"
   ]
  },
  {
   "cell_type": "code",
   "execution_count": 50,
   "metadata": {
    "collapsed": false
   },
   "outputs": [
    {
     "ename": "SyntaxError",
     "evalue": "invalid syntax (<ipython-input-50-fe3a7f00e0f1>, line 12)",
     "output_type": "error",
     "traceback": [
      "\u001b[0;36m  File \u001b[0;32m\"<ipython-input-50-fe3a7f00e0f1>\"\u001b[0;36m, line \u001b[0;32m12\u001b[0m\n\u001b[0;31m    name, email, *phone_numbers=record ## * is 0 to many, for rest of record\u001b[0m\n\u001b[0m                 ^\u001b[0m\n\u001b[0;31mSyntaxError\u001b[0m\u001b[0;31m:\u001b[0m invalid syntax\n"
     ]
    }
   ],
   "source": [
    "# Unpacking\n",
    "data = ['ACME', 50, 91.1, (2015, 9, 4)]\n",
    "data[3][0]\n",
    "name, share, price, date = data\n",
    "name ## ACME\n",
    "date ## tuple - (2015, 9, 4)\n",
    "share ## 50\n",
    "price ## 91.1\n",
    "\n",
    "## Unpacking when number of elements in data is unknown\n",
    "record = ('Dave', 'dave@ex.com', '708-234-1235', '708-453-1237')\n",
    "name, email, *phone_numbers=record ## * is 0 to many, for rest of record\n"
   ]
  },
  {
   "cell_type": "code",
   "execution_count": null,
   "metadata": {
    "collapsed": true
   },
   "outputs": [],
   "source": []
  }
 ],
 "metadata": {
  "kernelspec": {
   "display_name": "Python 2",
   "language": "python",
   "name": "python2"
  },
  "language_info": {
   "codemirror_mode": {
    "name": "ipython",
    "version": 2
   },
   "file_extension": ".py",
   "mimetype": "text/x-python",
   "name": "python",
   "nbconvert_exporter": "python",
   "pygments_lexer": "ipython2",
   "version": "2.7.10"
  }
 },
 "nbformat": 4,
 "nbformat_minor": 0
}
